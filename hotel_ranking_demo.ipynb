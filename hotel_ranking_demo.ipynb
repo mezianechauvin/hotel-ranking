{
 "cells": [
  {
   "cell_type": "markdown",
   "metadata": {
    "application/vnd.databricks.v1+cell": {
     "cellMetadata": {
      "byteLimit": 2048000,
      "rowLimit": 10000
     },
     "inputWidgets": {},
     "nuid": "392f7715-ae45-41a0-9364-9945eaea36f6",
     "showTitle": false,
     "tableResultSettingsMap": {},
     "title": ""
    }
   },
   "source": [
    "# Hotel Ranking System Demo\n",
    "\n",
    "This notebook demonstrates the hotel ranking system for day-access amenities. It shows how to:\n",
    "\n",
    "1. Generate synthetic data\n",
    "2. Explore the data\n",
    "3. Train a ranking model\n",
    "4. Evaluate the model\n",
    "5. Use the model for ranking venues"
   ]
  },
  {
   "cell_type": "code",
   "execution_count": 0,
   "metadata": {
    "application/vnd.databricks.v1+cell": {
     "cellMetadata": {
      "byteLimit": 2048000,
      "rowLimit": 10000
     },
     "inputWidgets": {},
     "nuid": "33907037-34a5-4eba-8836-dcc9c8a29f30",
     "showTitle": false,
     "tableResultSettingsMap": {},
     "title": ""
    }
   },
   "outputs": [],
   "source": [
    "!pip install pdm"
   ]
  },
  {
   "cell_type": "code",
   "execution_count": 0,
   "metadata": {
    "application/vnd.databricks.v1+cell": {
     "cellMetadata": {
      "byteLimit": 2048000,
      "rowLimit": 10000
     },
     "inputWidgets": {},
     "nuid": "a66e17ce-196b-4d82-b0ba-429594378f7f",
     "showTitle": false,
     "tableResultSettingsMap": {},
     "title": ""
    }
   },
   "outputs": [],
   "source": [
    "!pdm install"
   ]
  },
  {
   "cell_type": "markdown",
   "metadata": {
    "application/vnd.databricks.v1+cell": {
     "cellMetadata": {
      "byteLimit": 2048000,
      "rowLimit": 10000
     },
     "inputWidgets": {},
     "nuid": "0c3a6d4b-37d6-4332-acd9-3a4fb7141993",
     "showTitle": false,
     "tableResultSettingsMap": {},
     "title": ""
    }
   },
   "source": [
    "## Setup\n",
    "\n",
    "First, let's import the necessary modules and set up the environment."
   ]
  },
  {
   "cell_type": "code",
   "execution_count": 0,
   "metadata": {
    "application/vnd.databricks.v1+cell": {
     "cellMetadata": {
      "byteLimit": 2048000,
      "rowLimit": 10000
     },
     "inputWidgets": {},
     "nuid": "2bac5754-9bc4-4fef-9392-b16cab308f2e",
     "showTitle": false,
     "tableResultSettingsMap": {},
     "title": ""
    }
   },
   "outputs": [],
   "source": [
    "import os\n",
    "import numpy as np\n",
    "import pandas as pd\n",
    "import matplotlib.pyplot as plt\n",
    "import seaborn as sns\n",
    "\n",
    "# Set plot style\n",
    "plt.style.use('seaborn-whitegrid')\n",
    "sns.set_palette('viridis')\n",
    "\n",
    "# Set random seed for reproducibility\n",
    "np.random.seed(42)"
   ]
  },
  {
   "cell_type": "markdown",
   "metadata": {
    "application/vnd.databricks.v1+cell": {
     "cellMetadata": {
      "byteLimit": 2048000,
      "rowLimit": 10000
     },
     "inputWidgets": {},
     "nuid": "1f8c3ac7-2f75-49fa-b531-2017ed351391",
     "showTitle": false,
     "tableResultSettingsMap": {},
     "title": ""
    }
   },
   "source": [
    "## 1. Generate Synthetic Data\n",
    "\n",
    "We'll generate a small sample dataset for demonstration purposes."
   ]
  },
  {
   "cell_type": "code",
   "execution_count": 0,
   "metadata": {
    "application/vnd.databricks.v1+cell": {
     "cellMetadata": {
      "byteLimit": 2048000,
      "rowLimit": 10000
     },
     "inputWidgets": {},
     "nuid": "c90d0611-faa1-4be0-9688-d935349ded24",
     "showTitle": false,
     "tableResultSettingsMap": {},
     "title": ""
    }
   },
   "outputs": [],
   "source": [
    "# Check if sample data already exists\n",
    "sample_dir = \"data\"\n",
    "if not os.path.exists(sample_dir):\n",
    "    print(\"Generating sample data...\")\n",
    "    from src.data_generation.main import generate_all_data\n",
    "    data = generate_all_data()\n",
    "else:\n",
    "    print(\"Sample data already exists. Loading...\")\n",
    "    # Load sample data\n",
    "    venues_df = pd.read_csv(os.path.join(sample_dir, \"venues.csv\"))\n",
    "    users_df = pd.read_csv(os.path.join(sample_dir, \"users.csv\"))\n",
    "    users_processed_df = pd.read_csv(os.path.join(sample_dir, \"users_processed.csv\"))\n",
    "    seasonal_df = pd.read_csv(os.path.join(sample_dir, \"seasonal.csv\"))\n",
    "    weather_df = pd.read_csv(os.path.join(sample_dir, \"weather.csv\"))\n",
    "    interactions_df = pd.read_csv(os.path.join(sample_dir, \"interactions.csv\"))\n",
    "    train_df = pd.read_csv(os.path.join(sample_dir, \"interactions_train.csv\"))\n",
    "    test_df = pd.read_csv(os.path.join(sample_dir, \"interactions_test.csv\"))\n",
    "    \n",
    "    # Convert date columns to datetime\n",
    "    weather_df[\"date\"] = pd.to_datetime(weather_df[\"date\"])\n",
    "    \n",
    "    data = {\n",
    "        \"venues\": venues_df,\n",
    "        \"users\": users_df,\n",
    "        \"users_processed\": users_processed_df,\n",
    "        \"seasonal\": seasonal_df,\n",
    "        \"weather\": weather_df,\n",
    "        \"interactions\": interactions_df,\n",
    "        \"interactions_train\": train_df,\n",
    "        \"interactions_test\": test_df\n",
    "    }"
   ]
  },
  {
   "cell_type": "markdown",
   "metadata": {
    "application/vnd.databricks.v1+cell": {
     "cellMetadata": {
      "byteLimit": 2048000,
      "rowLimit": 10000
     },
     "inputWidgets": {},
     "nuid": "a0ee1984-4bb4-473b-8db7-86f9cf02649a",
     "showTitle": false,
     "tableResultSettingsMap": {},
     "title": ""
    }
   },
   "source": [
    "## 2. Explore the Data\n",
    "\n",
    "Let's explore the generated data to understand its structure and characteristics."
   ]
  },
  {
   "cell_type": "markdown",
   "metadata": {
    "application/vnd.databricks.v1+cell": {
     "cellMetadata": {
      "byteLimit": 2048000,
      "rowLimit": 10000
     },
     "inputWidgets": {},
     "nuid": "9e1aa11d-0475-46ce-98fe-dc76caec8511",
     "showTitle": false,
     "tableResultSettingsMap": {},
     "title": ""
    }
   },
   "source": [
    "### 2.1 Venue Data\n",
    "\n",
    "First, let's look at the venue data."
   ]
  },
  {
   "cell_type": "code",
   "execution_count": 0,
   "metadata": {
    "application/vnd.databricks.v1+cell": {
     "cellMetadata": {
      "byteLimit": 2048000,
      "rowLimit": 10000
     },
     "inputWidgets": {},
     "nuid": "71d574ec-5b0b-4e9f-80fe-6922fb634db8",
     "showTitle": false,
     "tableResultSettingsMap": {},
     "title": ""
    }
   },
   "outputs": [],
   "source": [
    "# Display venue data\n",
    "print(f\"Number of venues: {len(data['venues'])}\")\n",
    "data['venues'].head()"
   ]
  },
  {
   "cell_type": "code",
   "execution_count": 0,
   "metadata": {
    "application/vnd.databricks.v1+cell": {
     "cellMetadata": {
      "byteLimit": 2048000,
      "rowLimit": 10000
     },
     "inputWidgets": {},
     "nuid": "a14b0a66-bec9-459f-959d-a9e6b82713b8",
     "showTitle": false,
     "tableResultSettingsMap": {},
     "title": ""
    }
   },
   "outputs": [],
   "source": [
    "# Venue type distribution\n",
    "plt.figure(figsize=(10, 6))\n",
    "sns.countplot(data=data['venues'], x='venue_type')\n",
    "plt.title('Venue Type Distribution')\n",
    "plt.xticks(rotation=45)\n",
    "plt.tight_layout()\n",
    "plt.show()"
   ]
  },
  {
   "cell_type": "code",
   "execution_count": 0,
   "metadata": {
    "application/vnd.databricks.v1+cell": {
     "cellMetadata": {
      "byteLimit": 2048000,
      "rowLimit": 10000
     },
     "inputWidgets": {},
     "nuid": "1819798b-9bbd-4847-93eb-e3553dcf2789",
     "showTitle": false,
     "tableResultSettingsMap": {},
     "title": ""
    }
   },
   "outputs": [],
   "source": [
    "# Amenity availability\n",
    "amenities = ['pool', 'beach_access', 'spa', 'gym', 'hot_tub', 'food_service', 'bar']\n",
    "amenity_availability = {amenity: data['venues'][amenity].mean() for amenity in amenities if amenity in data['venues'].columns}\n",
    "\n",
    "plt.figure(figsize=(12, 6))\n",
    "sns.barplot(x=list(amenity_availability.keys()), y=list(amenity_availability.values()))\n",
    "plt.title('Amenity Availability')\n",
    "plt.ylabel('Percentage of Venues')\n",
    "plt.xticks(rotation=45)\n",
    "plt.tight_layout()\n",
    "plt.show()"
   ]
  },
  {
   "cell_type": "code",
   "execution_count": 0,
   "metadata": {
    "application/vnd.databricks.v1+cell": {
     "cellMetadata": {
      "byteLimit": 2048000,
      "rowLimit": 10000
     },
     "inputWidgets": {},
     "nuid": "ea42214e-b35a-4c5b-9e94-22c9ba8135bd",
     "showTitle": false,
     "tableResultSettingsMap": {},
     "title": ""
    }
   },
   "outputs": [],
   "source": [
    "# Price distribution by venue type\n",
    "plt.figure(figsize=(12, 6))\n",
    "sns.boxplot(data=data['venues'], x='venue_type', y='day_pass_price')\n",
    "plt.title('Day Pass Price by Venue Type')\n",
    "plt.xticks(rotation=45)\n",
    "plt.tight_layout()\n",
    "plt.show()"
   ]
  },
  {
   "cell_type": "markdown",
   "metadata": {
    "application/vnd.databricks.v1+cell": {
     "cellMetadata": {
      "byteLimit": 2048000,
      "rowLimit": 10000
     },
     "inputWidgets": {},
     "nuid": "0ce19bc5-ff67-49db-b80a-548cf46c5d2a",
     "showTitle": false,
     "tableResultSettingsMap": {},
     "title": ""
    }
   },
   "source": [
    "### 2.2 Seasonal Data\n",
    "\n",
    "Let's examine how amenity availability and pricing change by season."
   ]
  },
  {
   "cell_type": "code",
   "execution_count": 0,
   "metadata": {
    "application/vnd.databricks.v1+cell": {
     "cellMetadata": {
      "byteLimit": 2048000,
      "rowLimit": 10000
     },
     "inputWidgets": {},
     "nuid": "5c4c4287-feda-49b3-b961-57fece5305c1",
     "showTitle": false,
     "tableResultSettingsMap": {},
     "title": ""
    }
   },
   "outputs": [],
   "source": [
    "# Display seasonal data\n",
    "print(f\"Number of seasonal records: {len(data['seasonal'])}\")\n",
    "data['seasonal'].head()"
   ]
  },
  {
   "cell_type": "code",
   "execution_count": 0,
   "metadata": {
    "application/vnd.databricks.v1+cell": {
     "cellMetadata": {
      "byteLimit": 2048000,
      "rowLimit": 10000
     },
     "inputWidgets": {},
     "nuid": "97a0653b-b8f4-42c0-8ff5-512aa0676746",
     "showTitle": false,
     "tableResultSettingsMap": {},
     "title": ""
    }
   },
   "outputs": [],
   "source": [
    "# Pool availability by season\n",
    "if 'pool_available' in data['seasonal'].columns:\n",
    "    pool_availability = data['seasonal'].groupby('season')['pool_available'].mean()\n",
    "    \n",
    "    plt.figure(figsize=(10, 6))\n",
    "    sns.barplot(x=pool_availability.index, y=pool_availability.values)\n",
    "    plt.title('Pool Availability by Season')\n",
    "    plt.ylabel('Percentage of Venues')\n",
    "    plt.ylim(0, 1)\n",
    "    plt.tight_layout()\n",
    "    plt.show()"
   ]
  },
  {
   "cell_type": "code",
   "execution_count": 0,
   "metadata": {
    "application/vnd.databricks.v1+cell": {
     "cellMetadata": {
      "byteLimit": 2048000,
      "rowLimit": 10000
     },
     "inputWidgets": {},
     "nuid": "3b0c34fa-5b18-4646-af75-1b7c033fad21",
     "showTitle": false,
     "tableResultSettingsMap": {},
     "title": ""
    }
   },
   "outputs": [],
   "source": [
    "# Seasonal price variation\n",
    "seasonal_price = data['seasonal'].groupby(['season', 'venue_id'])['seasonal_price'].mean().reset_index()\n",
    "base_price = data['venues'][['venue_id', 'day_pass_price']]\n",
    "price_comparison = seasonal_price.merge(base_price, on='venue_id')\n",
    "price_comparison['price_ratio'] = price_comparison['seasonal_price'] / price_comparison['day_pass_price']\n",
    "\n",
    "plt.figure(figsize=(10, 6))\n",
    "sns.boxplot(data=price_comparison, x='season', y='price_ratio')\n",
    "plt.axhline(y=1, color='r', linestyle='--')\n",
    "plt.title('Seasonal Price Ratio (Seasonal Price / Base Price)')\n",
    "plt.ylabel('Price Ratio')\n",
    "plt.tight_layout()\n",
    "plt.show()"
   ]
  },
  {
   "cell_type": "markdown",
   "metadata": {
    "application/vnd.databricks.v1+cell": {
     "cellMetadata": {
      "byteLimit": 2048000,
      "rowLimit": 10000
     },
     "inputWidgets": {},
     "nuid": "6dd9fef9-68b1-4c94-ad07-d836cbfa89e7",
     "showTitle": false,
     "tableResultSettingsMap": {},
     "title": ""
    }
   },
   "source": [
    "### 2.3 User Interaction Data\n",
    "\n",
    "Now let's look at the user interaction data."
   ]
  },
  {
   "cell_type": "code",
   "execution_count": 0,
   "metadata": {
    "application/vnd.databricks.v1+cell": {
     "cellMetadata": {
      "byteLimit": 2048000,
      "rowLimit": 10000
     },
     "inputWidgets": {},
     "nuid": "5cbd6124-ef04-41a8-bbeb-ff7bf3d83d4e",
     "showTitle": false,
     "tableResultSettingsMap": {},
     "title": ""
    }
   },
   "outputs": [],
   "source": [
    "# Display interaction data\n",
    "print(f\"Number of interactions: {len(data['interactions'])}\")\n",
    "data['interactions'].head()"
   ]
  },
  {
   "cell_type": "code",
   "execution_count": 0,
   "metadata": {
    "application/vnd.databricks.v1+cell": {
     "cellMetadata": {
      "byteLimit": 2048000,
      "rowLimit": 10000
     },
     "inputWidgets": {},
     "nuid": "114e1bf2-f436-430a-b388-4cc9f78accc3",
     "showTitle": false,
     "tableResultSettingsMap": {},
     "title": ""
    }
   },
   "outputs": [],
   "source": [
    "# Overall click-through rate\n",
    "ctr = data['interactions']['clicked'].mean()\n",
    "print(f\"Overall Click-Through Rate: {ctr:.2%}\")"
   ]
  },
  {
   "cell_type": "code",
   "execution_count": 0,
   "metadata": {
    "application/vnd.databricks.v1+cell": {
     "cellMetadata": {
      "byteLimit": 2048000,
      "rowLimit": 10000
     },
     "inputWidgets": {},
     "nuid": "32ea1b7a-adc1-48a5-9fe1-40c537382cd6",
     "showTitle": false,
     "tableResultSettingsMap": {},
     "title": ""
    }
   },
   "outputs": [],
   "source": [
    "# CTR by position\n",
    "ctr_by_position = data['interactions'].groupby('position')['clicked'].mean()\n",
    "\n",
    "plt.figure(figsize=(12, 6))\n",
    "sns.barplot(x=ctr_by_position.index, y=ctr_by_position.values)\n",
    "plt.title('Click-Through Rate by Position')\n",
    "plt.xlabel('Position')\n",
    "plt.ylabel('Click-Through Rate')\n",
    "plt.tight_layout()\n",
    "plt.show()"
   ]
  },
  {
   "cell_type": "code",
   "execution_count": 0,
   "metadata": {
    "application/vnd.databricks.v1+cell": {
     "cellMetadata": {
      "byteLimit": 2048000,
      "rowLimit": 10000
     },
     "inputWidgets": {},
     "nuid": "9fd31942-17d1-496a-be28-2d6da73c1e5c",
     "showTitle": false,
     "tableResultSettingsMap": {},
     "title": ""
    }
   },
   "outputs": [],
   "source": [
    "# CTR by season\n",
    "ctr_by_season = data['interactions'].groupby('season')['clicked'].mean()\n",
    "\n",
    "plt.figure(figsize=(10, 6))\n",
    "sns.barplot(x=ctr_by_season.index, y=ctr_by_season.values)\n",
    "plt.title('Click-Through Rate by Season')\n",
    "plt.ylabel('Click-Through Rate')\n",
    "plt.tight_layout()\n",
    "plt.show()"
   ]
  },
  {
   "cell_type": "code",
   "execution_count": 0,
   "metadata": {
    "application/vnd.databricks.v1+cell": {
     "cellMetadata": {
      "byteLimit": 2048000,
      "rowLimit": 10000
     },
     "inputWidgets": {},
     "nuid": "435b9f06-43ce-4abf-a74b-a8ad8af45c62",
     "showTitle": false,
     "tableResultSettingsMap": {},
     "title": ""
    }
   },
   "outputs": [],
   "source": [
    "# CTR by distance\n",
    "data['interactions']['distance_bucket'] = pd.cut(\n",
    "    data['interactions']['distance_km'],\n",
    "    bins=[0, 1, 2, 5, 10, 20, 50],\n",
    "    labels=['0-1km', '1-2km', '2-5km', '5-10km', '10-20km', '20-50km']\n",
    ")\n",
    "\n",
    "ctr_by_distance = data['interactions'].groupby('distance_bucket')['clicked'].mean()\n",
    "\n",
    "plt.figure(figsize=(12, 6))\n",
    "sns.barplot(x=ctr_by_distance.index, y=ctr_by_distance.values)\n",
    "plt.title('Click-Through Rate by Distance')\n",
    "plt.ylabel('Click-Through Rate')\n",
    "plt.tight_layout()\n",
    "plt.show()"
   ]
  },
  {
   "cell_type": "markdown",
   "metadata": {
    "application/vnd.databricks.v1+cell": {
     "cellMetadata": {
      "byteLimit": 2048000,
      "rowLimit": 10000
     },
     "inputWidgets": {},
     "nuid": "b32dab3a-2092-4cc6-b100-a15a80f6c045",
     "showTitle": false,
     "tableResultSettingsMap": {},
     "title": ""
    }
   },
   "source": [
    "## 3. Train a Ranking Model\n",
    "\n",
    "Now let's train a ranking model using the generated data."
   ]
  },
  {
   "cell_type": "code",
   "execution_count": 0,
   "metadata": {
    "application/vnd.databricks.v1+cell": {
     "cellMetadata": {
      "byteLimit": 2048000,
      "rowLimit": 10000
     },
     "inputWidgets": {},
     "nuid": "7363b290-6cef-4912-9fa1-4d9851a92bfd",
     "showTitle": false,
     "tableResultSettingsMap": {},
     "title": ""
    }
   },
   "outputs": [],
   "source": [
    "from src.modeling.feature_engineering import prepare_features\n",
    "from src.modeling.model import train_ranking_model, save_model\n",
    "\n",
    "# Prepare features for training\n",
    "print(\"Preparing features...\")\n",
    "train_features_df = prepare_features(\n",
    "    data['interactions_train'],\n",
    "    data['venues'],\n",
    "    data['users_processed'],\n",
    "    data['seasonal'],\n",
    "    data['weather']\n",
    ")\n",
    "\n",
    "# Train model\n",
    "print(\"Training model...\")\n",
    "model, feature_cols = train_ranking_model(train_features_df)\n",
    "\n",
    "# Save model\n",
    "model_dir = \"models\"\n",
    "os.makedirs(model_dir, exist_ok=True)\n",
    "save_model(model, feature_cols, model_dir)"
   ]
  },
  {
   "cell_type": "code",
   "execution_count": 0,
   "metadata": {
    "application/vnd.databricks.v1+cell": {
     "cellMetadata": {
      "byteLimit": 2048000,
      "rowLimit": 10000
     },
     "inputWidgets": {},
     "nuid": "3e2b42a5-741c-4d5f-82e4-6ab8cdc66e1d",
     "showTitle": false,
     "tableResultSettingsMap": {},
     "title": ""
    }
   },
   "outputs": [],
   "source": [
    "pd.set_option('display.max_rows', 100)\n",
    "train_features_df.dtypes\n",
    "\n",
    "# distance_bucket, booking_hours_bucket, day_of_week, season"
   ]
  },
  {
   "cell_type": "markdown",
   "metadata": {
    "application/vnd.databricks.v1+cell": {
     "cellMetadata": {
      "byteLimit": 2048000,
      "rowLimit": 10000
     },
     "inputWidgets": {},
     "nuid": "04795906-8df9-4d63-bc18-8f7a982d7b28",
     "showTitle": false,
     "tableResultSettingsMap": {},
     "title": ""
    }
   },
   "source": [
    "## 4. Evaluate the Model\n",
    "\n",
    "Let's evaluate the trained model on the test data."
   ]
  },
  {
   "cell_type": "code",
   "execution_count": 0,
   "metadata": {
    "application/vnd.databricks.v1+cell": {
     "cellMetadata": {
      "byteLimit": 2048000,
      "rowLimit": 10000
     },
     "inputWidgets": {},
     "nuid": "88a19d19-1b38-4607-bfad-f2a1192cfd30",
     "showTitle": false,
     "tableResultSettingsMap": {},
     "title": ""
    }
   },
   "outputs": [],
   "source": [
    "features_df = prepare_features(data['interactions_test'],data['venues'],data['users_processed'],data['seasonal'],data['weather'])"
   ]
  },
  {
   "cell_type": "code",
   "execution_count": 0,
   "metadata": {
    "application/vnd.databricks.v1+cell": {
     "cellMetadata": {
      "byteLimit": 2048000,
      "rowLimit": 10000
     },
     "inputWidgets": {},
     "nuid": "bc6eda02-8b6c-4f01-9229-67010f03032b",
     "showTitle": false,
     "tableResultSettingsMap": {},
     "title": ""
    }
   },
   "outputs": [],
   "source": [
    "data['interactions_test'].season.value_counts()"
   ]
  },
  {
   "cell_type": "code",
   "execution_count": 0,
   "metadata": {
    "application/vnd.databricks.v1+cell": {
     "cellMetadata": {
      "byteLimit": 2048000,
      "rowLimit": 10000
     },
     "inputWidgets": {},
     "nuid": "ca36031e-512d-496a-9fab-2efc4ebcbc2e",
     "showTitle": false,
     "tableResultSettingsMap": {},
     "title": ""
    }
   },
   "outputs": [],
   "source": [
    "from src.modeling.evaluation import evaluate_model, generate_evaluation_report\n",
    "\n",
    "# Evaluate model\n",
    "print(\"Evaluating model...\")\n",
    "metrics, results_df = evaluate_model(\n",
    "    model,\n",
    "    data['interactions_test'],\n",
    "    data['venues'],\n",
    "    data['users_processed'],\n",
    "    data['seasonal'],\n",
    "    data['weather'],\n",
    "    feature_cols\n",
    ")\n",
    "\n",
    "# Print metrics\n",
    "print(\"\\nEvaluation Metrics:\")\n",
    "print(f\"AUC: {metrics['auc']:.4f}\")\n",
    "print(f\"Average Precision: {metrics['average_precision']:.4f}\")\n",
    "print(f\"NDCG@5: {metrics['ndcg@5']:.4f}\")\n",
    "print(f\"NDCG@10: {metrics['ndcg@10']:.4f}\")\n",
    "print(f\"CTR@1: {metrics['ctr@1']:.4f}\")\n",
    "print(f\"CTR@5: {metrics['ctr@5']:.4f}\")"
   ]
  },
  {
   "cell_type": "code",
   "execution_count": 0,
   "metadata": {
    "application/vnd.databricks.v1+cell": {
     "cellMetadata": {
      "byteLimit": 2048000,
      "rowLimit": 10000
     },
     "inputWidgets": {},
     "nuid": "10f5187c-272f-4214-86ab-8d2cdb599a69",
     "showTitle": false,
     "tableResultSettingsMap": {},
     "title": ""
    }
   },
   "outputs": [],
   "source": [
    "# Plot precision-recall curve\n",
    "from sklearn.metrics import precision_recall_curve, average_precision_score\n",
    "\n",
    "precision, recall, _ = precision_recall_curve(results_df['clicked'], results_df['predicted_score'])\n",
    "ap = average_precision_score(results_df['clicked'], results_df['predicted_score'])\n",
    "\n",
    "plt.figure(figsize=(10, 6))\n",
    "plt.plot(recall, precision, lw=2)\n",
    "plt.xlabel('Recall')\n",
    "plt.ylabel('Precision')\n",
    "plt.title(f'Precision-Recall Curve (AP = {ap:.4f})')\n",
    "plt.grid(True)\n",
    "plt.show()"
   ]
  },
  {
   "cell_type": "code",
   "execution_count": 0,
   "metadata": {
    "application/vnd.databricks.v1+cell": {
     "cellMetadata": {
      "byteLimit": 2048000,
      "rowLimit": 10000
     },
     "inputWidgets": {},
     "nuid": "5211893c-0034-4bce-9bbc-0c24687f62d4",
     "showTitle": false,
     "tableResultSettingsMap": {},
     "title": ""
    }
   },
   "outputs": [],
   "source": [
    "# Plot score distribution by clicked status\n",
    "plt.figure(figsize=(10, 6))\n",
    "sns.histplot(\n",
    "    data=results_df,\n",
    "    x='predicted_score',\n",
    "    hue='clicked',\n",
    "    bins=30,\n",
    "    alpha=0.6\n",
    ")\n",
    "plt.title('Distribution of Predicted Scores by Clicked Status')\n",
    "plt.xlabel('Predicted Score')\n",
    "plt.ylabel('Count')\n",
    "plt.show()"
   ]
  },
  {
   "cell_type": "code",
   "execution_count": 0,
   "metadata": {
    "application/vnd.databricks.v1+cell": {
     "cellMetadata": {
      "byteLimit": 2048000,
      "rowLimit": 10000
     },
     "inputWidgets": {},
     "nuid": "6b10cf4a-f97e-4dee-a1ce-3e3e91c0bdbf",
     "showTitle": false,
     "tableResultSettingsMap": {},
     "title": ""
    }
   },
   "outputs": [],
   "source": [
    "# Feature importance\n",
    "importance = model.get_score(importance_type='gain')\n",
    "importance = sorted(importance.items(), key=lambda x: x[1], reverse=True)\n",
    "\n",
    "# Plot top 20 features\n",
    "top_features = importance[:20]\n",
    "feature_names = [f[0] for f in top_features]\n",
    "feature_scores = [f[1] for f in top_features]\n",
    "\n",
    "plt.figure(figsize=(12, 8))\n",
    "sns.barplot(x=feature_scores, y=feature_names)\n",
    "plt.title('Top 20 Features by Importance')\n",
    "plt.xlabel('Importance Score')\n",
    "plt.tight_layout()\n",
    "plt.show()"
   ]
  },
  {
   "cell_type": "markdown",
   "metadata": {
    "application/vnd.databricks.v1+cell": {
     "cellMetadata": {
      "byteLimit": 2048000,
      "rowLimit": 10000
     },
     "inputWidgets": {},
     "nuid": "b4e50133-19e9-479e-b529-2433aa00ac8d",
     "showTitle": false,
     "tableResultSettingsMap": {},
     "title": ""
    }
   },
   "source": [
    "## 5. Use the Model for Ranking Venues\n",
    "\n",
    "Now let's use the trained model to rank venues for a specific user and context."
   ]
  },
  {
   "cell_type": "code",
   "execution_count": 0,
   "metadata": {
    "application/vnd.databricks.v1+cell": {
     "cellMetadata": {
      "byteLimit": 2048000,
      "rowLimit": 10000
     },
     "inputWidgets": {},
     "nuid": "64682ab0-e462-4d47-aea6-e8541b055926",
     "showTitle": false,
     "tableResultSettingsMap": {},
     "title": ""
    }
   },
   "outputs": [],
   "source": [
    "from src.modeling.model import predict_rankings\n",
    "\n",
    "# Select a random session from the test data\n",
    "session_id = data['interactions_test']['session_id'].sample(1).iloc[0]\n",
    "session_data = data['interactions_test'][data['interactions_test']['session_id'] == session_id]\n",
    "\n",
    "print(f\"Selected session ID: {session_id}\")\n",
    "print(f\"Number of venues in session: {len(session_data)}\")\n",
    "\n",
    "# Get user ID and context information\n",
    "user_id = session_data['user_id'].iloc[0]\n",
    "season = session_data['season'].iloc[0]\n",
    "time_slot = session_data['time_slot'].iloc[0]\n",
    "\n",
    "print(f\"User ID: {user_id}\")\n",
    "print(f\"Season: {season}\")\n",
    "print(f\"Time slot: {time_slot}\")"
   ]
  },
  {
   "cell_type": "code",
   "execution_count": 0,
   "metadata": {
    "application/vnd.databricks.v1+cell": {
     "cellMetadata": {
      "byteLimit": 2048000,
      "rowLimit": 10000
     },
     "inputWidgets": {},
     "nuid": "8dc37be3-119a-4974-aaf6-a24bc4d5aa4b",
     "showTitle": false,
     "tableResultSettingsMap": {},
     "title": ""
    }
   },
   "outputs": [],
   "source": [
    "# Prepare features for the session\n",
    "session_features = prepare_features(\n",
    "    session_data,\n",
    "    data['venues'],\n",
    "    data['users_processed'],\n",
    "    data['seasonal'],\n",
    "    data['weather']\n",
    ")\n",
    "\n",
    "# Predict rankings\n",
    "ranked_venues = predict_rankings(model, session_features, feature_cols)\n",
    "\n",
    "# Sort by predicted score\n",
    "ranked_venues = ranked_venues.sort_values('predicted_score', ascending=False)\n",
    "\n",
    "# Display ranked venues\n",
    "display_cols = ['venue_id', 'clicked', 'predicted_score', 'predicted_rank',\n",
    "               'venue_type', 'star_rating', 'seasonal_price', 'vibe',\n",
    "               'distance_km', 'time_slot']\n",
    "\n",
    "ranked_venues[display_cols]"
   ]
  },
  {
   "cell_type": "code",
   "execution_count": 0,
   "metadata": {
    "application/vnd.databricks.v1+cell": {
     "cellMetadata": {
      "byteLimit": 2048000,
      "rowLimit": 10000
     },
     "inputWidgets": {},
     "nuid": "cef4e001-3c89-4dda-b457-37b5a48cf941",
     "showTitle": false,
     "tableResultSettingsMap": {},
     "title": ""
    }
   },
   "outputs": [],
   "source": [
    "# Compare model ranking with original position\n",
    "comparison = ranked_venues[['venue_id', 'position', 'predicted_rank', 'clicked', 'predicted_score']]\n",
    "comparison = comparison.sort_values('position')\n",
    "\n",
    "plt.figure(figsize=(12, 6))\n",
    "plt.scatter(comparison['position'], comparison['predicted_rank'], \n",
    "           c=comparison['clicked'].map({True: 'green', False: 'red'}),\n",
    "           s=100, alpha=0.7)\n",
    "\n",
    "plt.xlabel('Original Position')\n",
    "plt.ylabel('Predicted Rank')\n",
    "plt.title('Original Position vs. Predicted Rank')\n",
    "plt.grid(True)\n",
    "\n",
    "# Add diagonal line for reference\n",
    "max_val = max(comparison['position'].max(), comparison['predicted_rank'].max())\n",
    "plt.plot([0, max_val], [0, max_val], 'k--', alpha=0.5)\n",
    "\n",
    "# Add legend\n",
    "from matplotlib.lines import Line2D\n",
    "legend_elements = [\n",
    "    Line2D([0], [0], marker='o', color='w', markerfacecolor='green', markersize=10, label='Clicked'),\n",
    "    Line2D([0], [0], marker='o', color='w', markerfacecolor='red', markersize=10, label='Not Clicked')\n",
    "]\n",
    "plt.legend(handles=legend_elements)\n",
    "\n",
    "plt.tight_layout()\n",
    "plt.show()"
   ]
  },
  {
   "cell_type": "markdown",
   "metadata": {
    "application/vnd.databricks.v1+cell": {
     "cellMetadata": {
      "byteLimit": 2048000,
      "rowLimit": 10000
     },
     "inputWidgets": {},
     "nuid": "d1cfeb71-d0cf-4532-a86b-fd137c78e43c",
     "showTitle": false,
     "tableResultSettingsMap": {},
     "title": ""
    }
   },
   "source": [
    "## 6. Visualize Venue Locations\n",
    "\n",
    "Let's visualize the venue locations for a specific city."
   ]
  },
  {
   "cell_type": "code",
   "execution_count": 0,
   "metadata": {
    "application/vnd.databricks.v1+cell": {
     "cellMetadata": {
      "byteLimit": 2048000,
      "rowLimit": 10000
     },
     "inputWidgets": {},
     "nuid": "1957b6c3-a799-40ad-a8e3-bcd9eeaa8ae3",
     "showTitle": false,
     "tableResultSettingsMap": {},
     "title": ""
    }
   },
   "outputs": [],
   "source": [
    "from src.utils.visualization import plot_venue_locations\n",
    "\n",
    "# Get user's city\n",
    "user_city = data['users'][data['users']['user_id'] == user_id]['home_city'].iloc[0]\n",
    "print(f\"User's city: {user_city}\")\n",
    "\n",
    "# Plot venue locations\n",
    "plot_venue_locations(data['venues'], data['users'], city=user_city)\n",
    "plt.title(f'Venue Locations in {user_city}')\n",
    "plt.show()"
   ]
  },
  {
   "cell_type": "markdown",
   "metadata": {
    "application/vnd.databricks.v1+cell": {
     "cellMetadata": {
      "byteLimit": 2048000,
      "rowLimit": 10000
     },
     "inputWidgets": {},
     "nuid": "1c397a33-c0f5-4109-8930-97b4226ccfdc",
     "showTitle": false,
     "tableResultSettingsMap": {},
     "title": ""
    }
   },
   "source": [
    "## 7. Seasonal Availability Analysis\n",
    "\n",
    "Let's analyze how amenity availability changes by season."
   ]
  },
  {
   "cell_type": "code",
   "execution_count": 0,
   "metadata": {
    "application/vnd.databricks.v1+cell": {
     "cellMetadata": {
      "byteLimit": 2048000,
      "rowLimit": 10000
     },
     "inputWidgets": {},
     "nuid": "137b4222-c867-4e3c-860c-57f337515b1f",
     "showTitle": false,
     "tableResultSettingsMap": {},
     "title": ""
    }
   },
   "outputs": [],
   "source": [
    "from src.utils.visualization import plot_seasonal_availability\n",
    "\n",
    "# Plot seasonal availability for different amenities\n",
    "amenities = ['pool', 'beach_access', 'spa', 'gym', 'hot_tub']\n",
    "\n",
    "fig, axes = plt.subplots(len(amenities), 1, figsize=(12, 4*len(amenities)))\n",
    "\n",
    "for i, amenity in enumerate(amenities):\n",
    "    try:\n",
    "        plot_seasonal_availability(data['seasonal'], amenity=amenity, ax=axes[i])\n",
    "    except (KeyError, ValueError) as e:\n",
    "        axes[i].text(0.5, 0.5, f\"No data available for {amenity}\", \n",
    "                    horizontalalignment='center', verticalalignment='center')\n",
    "        axes[i].set_title(f'Seasonal Availability of {amenity.capitalize()}')\n",
    "\n",
    "plt.tight_layout()\n",
    "plt.show()"
   ]
  },
  {
   "cell_type": "markdown",
   "metadata": {
    "application/vnd.databricks.v1+cell": {
     "cellMetadata": {
      "byteLimit": 2048000,
      "rowLimit": 10000
     },
     "inputWidgets": {},
     "nuid": "2ee6adea-2311-48c8-9d10-aa20e42875fc",
     "showTitle": false,
     "tableResultSettingsMap": {},
     "title": ""
    }
   },
   "source": [
    "## Conclusion\n",
    "\n",
    "In this notebook, we've demonstrated the hotel ranking system for day-access amenities. We've shown how to:\n",
    "\n",
    "1. Generate synthetic data for venues, users, and interactions\n",
    "2. Explore the data to understand its characteristics\n",
    "3. Train a ranking model using XGBoost\n",
    "4. Evaluate the model's performance\n",
    "5. Use the model to rank venues for a specific user and context\n",
    "6. Visualize venue locations and seasonal availability\n",
    "\n",
    "The model takes into account various factors including:\n",
    "- User preferences and history\n",
    "- Venue attributes and amenities\n",
    "- Seasonal availability and pricing\n",
    "- Weather conditions\n",
    "- Location proximity\n",
    "- Time slot availability\n",
    "\n",
    "This approach provides a personalized ranking of venues based on the specific context and user preferences."
   ]
  },
  {
   "cell_type": "code",
   "execution_count": 0,
   "metadata": {
    "application/vnd.databricks.v1+cell": {
     "cellMetadata": {
      "byteLimit": 2048000,
      "rowLimit": 10000
     },
     "inputWidgets": {},
     "nuid": "fb0cc000-9421-442e-87e1-f7ff21ec4d06",
     "showTitle": false,
     "tableResultSettingsMap": {},
     "title": ""
    }
   },
   "outputs": [],
   "source": []
  }
 ],
 "metadata": {
  "application/vnd.databricks.v1+notebook": {
   "computePreferences": null,
   "dashboards": [],
   "environmentMetadata": null,
   "inputWidgetPreferences": null,
   "language": "python",
   "notebookMetadata": {
    "pythonIndentUnit": 4
   },
   "notebookName": "hotel_ranking_demo",
   "widgets": {}
  },
  "kernelspec": {
   "display_name": "Python 3",
   "language": "python",
   "name": "python3"
  },
  "language_info": {
   "name": "python"
  }
 },
 "nbformat": 4,
 "nbformat_minor": 0
}
